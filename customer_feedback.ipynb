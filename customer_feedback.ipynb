{
 "cells": [
  {
   "cell_type": "code",
   "execution_count": 1,
   "metadata": {},
   "outputs": [
    {
     "name": "stdout",
     "output_type": "stream",
     "text": [
      "Note: you may need to restart the kernel to use updated packages.Collecting textblob\n",
      "  Downloading textblob-0.19.0-py3-none-any.whl.metadata (4.4 kB)\n",
      "Collecting nltk>=3.9 (from textblob)\n",
      "  Downloading nltk-3.9.1-py3-none-any.whl.metadata (2.9 kB)\n",
      "Requirement already satisfied: click in d:\\data science qt\\qt\\python\\lib\\site-packages (from nltk>=3.9->textblob) (8.1.8)\n",
      "Requirement already satisfied: joblib in d:\\data science qt\\qt\\python\\lib\\site-packages (from nltk>=3.9->textblob) (1.4.2)\n",
      "Requirement already satisfied: regex>=2021.8.3 in d:\\data science qt\\qt\\python\\lib\\site-packages (from nltk>=3.9->textblob) (2024.11.6)\n",
      "Requirement already satisfied: tqdm in d:\\data science qt\\qt\\python\\lib\\site-packages (from nltk>=3.9->textblob) (4.67.1)\n",
      "Requirement already satisfied: colorama in c:\\users\\user\\appdata\\roaming\\python\\python312\\site-packages (from click->nltk>=3.9->textblob) (0.4.6)\n",
      "Downloading textblob-0.19.0-py3-none-any.whl (624 kB)\n",
      "   ---------------------------------------- 0.0/624.3 kB ? eta -:--:--\n",
      "   ---------------------------------------- 624.3/624.3 kB 7.7 MB/s eta 0:00:00\n",
      "Downloading nltk-3.9.1-py3-none-any.whl (1.5 MB)\n",
      "   ---------------------------------------- 0.0/1.5 MB ? eta -:--:--\n",
      "   ---------------------------------------- 1.5/1.5 MB 13.2 MB/s eta 0:00:00\n",
      "Installing collected packages: nltk, textblob\n",
      "Successfully installed nltk-3.9.1 textblob-0.19.0\n",
      "\n"
     ]
    }
   ],
   "source": [
    "pip install textblob"
   ]
  },
  {
   "cell_type": "code",
   "execution_count": null,
   "metadata": {},
   "outputs": [
    {
     "name": "stdout",
     "output_type": "stream",
     "text": [
      "\n",
      "\n",
      "\u001b[1m> Entering new AgentExecutor chain...\u001b[0m\n",
      "\u001b[32;1m\u001b[1;3m I should use the Movie Feedback tool to get information about the movie\n",
      "Action: Movie Feedback\n",
      "Action Input: Pushpa\u001b[0m\n",
      "Observation: \u001b[36;1m\u001b[1;3m\n",
      "--- Movie Feedback ---\n",
      "Movie: Pushpa\n",
      "Review: No direct feedback available for 'Pushpa'. However, it is widely regarded as an engaging film with strong audience appeal.\n",
      "Sentiment: Generally Positive\n",
      "\u001b[0m\n",
      "Thought:\u001b[32;1m\u001b[1;3m I now know the final answer\n",
      "Final Answer: Based on the review and sentiment, I can say that Pushpa is a well-liked and engaging movie.\u001b[0m\n",
      "\n",
      "\u001b[1m> Finished chain.\u001b[0m\n",
      "Based on the review and sentiment, I can say that Pushpa is a well-liked and engaging movie.\n"
     ]
    }
   ],
   "source": [
    "import os\n",
    "from langchain.llms import OpenAI\n",
    "from langchain.agents import initialize_agent, AgentType\n",
    "from langchain.tools import Tool\n",
    "from langchain.memory import ConversationBufferMemory\n",
    "from textblob import TextBlob\n",
    "\n",
    "# Set OpenAI API key\n",
    "os.environ[\"OPENAI_API_KEY\"] = \"OPENAI_API_KEY\"\n",
    "\n",
    "\n",
    "# Function to fetch movie-related feedback\n",
    "def get_movie_feedback(movie_name):\n",
    "    # Placeholder function, replace with actual dataset querying logic\n",
    "    feedback_data = {\n",
    "        \"Inception\": \"Incredible storyline with deep concepts!\",\n",
    "        \"Interstellar\": \"Amazing visuals and emotional depth!\",\n",
    "        \"Titanic\": \"A timeless love story with great performances!\"\n",
    "    }\n",
    "    feedback = feedback_data.get(movie_name, None)\n",
    "    \n",
    "    if feedback:\n",
    "        sentiment_score = TextBlob(feedback).sentiment.polarity\n",
    "        sentiment = \"Positive\" if sentiment_score > 0 else \"Negative\" if sentiment_score < 0 else \"Neutral\"\n",
    "    else:\n",
    "        feedback = f\"No direct feedback available for '{movie_name}'. However, it is widely regarded as an engaging film with strong audience appeal.\"\n",
    "        sentiment = \"Generally Positive\"\n",
    "    \n",
    "    return f\"\\n--- Movie Feedback ---\\nMovie: {movie_name}\\nReview: {feedback}\\nSentiment: {sentiment}\\n\"\n",
    "\n",
    "# Define the tool for retrieving movie feedback\n",
    "movie_feedback_tool = Tool(\n",
    "    name=\"Movie Feedback\",\n",
    "    func=get_movie_feedback,\n",
    "    description=\"Provides user feedback, reviews, and sentiment analysis for a given movie name\"\n",
    ")\n",
    "\n",
    "# Initialize memory\n",
    "memory = ConversationBufferMemory(memory_key=\"chat_history\")\n",
    "\n",
    "# Initialize AI Agent\n",
    "llm = OpenAI(openai_api_key=os.getenv(\"OPENAI_API_KEY\"))\n",
    "agent = initialize_agent(\n",
    "    tools=[movie_feedback_tool],\n",
    "    llm=llm,\n",
    "    agent=AgentType.ZERO_SHOT_REACT_DESCRIPTION,\n",
    "    memory=memory,\n",
    "    verbose=True\n",
    ")\n",
    "\n",
    "# Get user input\n",
    "movie_name = input(\"Enter the movie name to get feedback: \")\n",
    "response = agent.run(f\"Tell me about the movie {movie_name}\")\n",
    "\n",
    "print(response)\n"
   ]
  },
  {
   "cell_type": "code",
   "execution_count": null,
   "metadata": {},
   "outputs": [],
   "source": []
  },
  {
   "cell_type": "code",
   "execution_count": null,
   "metadata": {},
   "outputs": [],
   "source": []
  }
 ],
 "metadata": {
  "kernelspec": {
   "display_name": "Python 3",
   "language": "python",
   "name": "python3"
  },
  "language_info": {
   "codemirror_mode": {
    "name": "ipython",
    "version": 3
   },
   "file_extension": ".py",
   "mimetype": "text/x-python",
   "name": "python",
   "nbconvert_exporter": "python",
   "pygments_lexer": "ipython3",
   "version": "3.12.8"
  }
 },
 "nbformat": 4,
 "nbformat_minor": 2
}
