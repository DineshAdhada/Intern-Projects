{
 "cells": [
  {
   "cell_type": "code",
   "execution_count": null,
   "metadata": {},
   "outputs": [
    {
     "name": "stdout",
     "output_type": "stream",
     "text": [
      "\n",
      "--- AI Vehicle Diagnostics ---\n",
      "\n",
      "Diagnosis Report:\n",
      "Based on the details supplied, it sounds like your vehicle could be experiencing issues with its cooling system. Here are a few possible issues:\n",
      "\n",
      "1. Coolant Level: The overheating issue could be due to a low coolant level. Check the coolant reservoir in your vehicle to ensure it's sufficiently filled. If not, top it up to the required level.\n",
      "\n",
      "2. Thermostat: If the thermostat in your vehicle is stuck or not functioning properly, it will not allow the coolant to circulate through the engine, hence causing the engine to overheat. I would suggest having a qualified mechanic inspect the thermostat.\n",
      "\n",
      "3. Water Pump: The Water Pump helps in circulating the coolant. In case it's faulty or not working correctly, it can cause the engine to overheat as the coolant will not be able to reach areas of engine that need cooling. Get this checked by a professional mechanic.\n",
      "\n",
      "4. Radiator: An issue with your radiator (for example, a blockage) could obstruct the coolant flow, leading to your engine overheating. Inspect your radiator for any visible blockages, or have it inspected by a professional if necessary.\n",
      "\n",
      "5. Engine Fan: An engine fan helps cool the engine by pulling air through the radiator. If the fan is not working properly, it can lead to overheating. Check if the fan is running when the engine is on. If not, you should have this fixed.\n",
      "\n",
      "6. Engine Oil: Ensuring your engine oil is at the correct level can also help prevent overheating. Check your oil level and top up if necessary.\n",
      "\n",
      "In any case, it's crucial to turn off your vehicle to prevent extensive engine damage when it's overheating. I recommend taking your vehicle to a professional mechanic for an accurate diagnosis. They will be able to use diagnostics tools to check the specific error codes and provide an appropriate fix.\n"
     ]
    }
   ],
   "source": [
    "import openai\n",
    "import os\n",
    "\n",
    "def get_openai_client():\n",
    "    \"\"\"Initialize OpenAI client with API key.\"\"\"\n",
    "    api_key = os.getenv(\"OPENAI_API_KEY\")\n",
    "    if not api_key:\n",
    "        api_key = \"OPENAI_API_KEY\" \n",
    "        # Replace with actual API key\n",
    "    return openai.OpenAI(api_key=api_key)\n",
    "\n",
    "def generate_vehicle_diagnosis(query):\n",
    "    \"\"\"Generates AI-based vehicle diagnostics based on user query.\"\"\"\n",
    "    client = get_openai_client()\n",
    "    response = client.chat.completions.create(\n",
    "        model=\"gpt-4\",\n",
    "        messages=[\n",
    "            {\"role\": \"system\", \"content\": \"You are an AI vehicle diagnostics assistant.\"},\n",
    "            {\"role\": \"user\", \"content\": query}\n",
    "        ]\n",
    "    )\n",
    "    return response.choices[0].message.content\n",
    "\n",
    "def get_user_input():\n",
    "    \"\"\"Collects user input for vehicle diagnostics.\"\"\"\n",
    "    error_codes = input(\"Enter vehicle error codes (if any): \")\n",
    "    performance_issue = input(\"Describe any performance issues (e.g., rough idle, power loss): \")\n",
    "    additional_symptoms = input(\"List any additional symptoms (e.g., unusual sounds, warning lights): \")\n",
    "    mileage = input(\"Enter current vehicle mileage: \")\n",
    "    fuel_efficiency = input(\"Enter recent fuel efficiency (km/L): \")\n",
    "    \n",
    "    # Construct AI query\n",
    "    query = (\n",
    "        f\"My vehicle has error codes: {error_codes}. \"\n",
    "        f\"It is experiencing {performance_issue}. \"\n",
    "        f\"Additional symptoms include: {additional_symptoms}. \"\n",
    "        f\"Current mileage: {mileage} km. Fuel efficiency: {fuel_efficiency} km/L. \"\n",
    "        \"What could be the possible issues and recommended solutions?\"\n",
    "    )\n",
    "    return query\n",
    "\n",
    "def main():\n",
    "    \"\"\"Main function to run AI-based vehicle diagnostics.\"\"\"\n",
    "    print(\"\\n--- AI Vehicle Diagnostics ---\")\n",
    "    user_query = get_user_input()\n",
    "    diagnosis = generate_vehicle_diagnosis(user_query)\n",
    "    print(\"\\nDiagnosis Report:\")\n",
    "    print(diagnosis)\n",
    "\n",
    "if __name__ == \"__main__\":\n",
    "    main()\n"
   ]
  },
  {
   "cell_type": "code",
   "execution_count": null,
   "metadata": {},
   "outputs": [],
   "source": []
  }
 ],
 "metadata": {
  "kernelspec": {
   "display_name": "Python 3",
   "language": "python",
   "name": "python3"
  },
  "language_info": {
   "codemirror_mode": {
    "name": "ipython",
    "version": 3
   },
   "file_extension": ".py",
   "mimetype": "text/x-python",
   "name": "python",
   "nbconvert_exporter": "python",
   "pygments_lexer": "ipython3",
   "version": "3.12.8"
  }
 },
 "nbformat": 4,
 "nbformat_minor": 2
}
